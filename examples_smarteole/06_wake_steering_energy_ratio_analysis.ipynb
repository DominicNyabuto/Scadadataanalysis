{
 "cells": [
  {
   "attachments": {},
   "cell_type": "markdown",
   "metadata": {},
   "source": [
    "# Analyze Energy Ratios with Wake Steering\n",
    "\n",
    "In this notebook, we will compare energy ratios computed using data from baseline and wake steering control periods. The energy ratios for the two control cases will be compared to evaluate the impact of wake steering on the energy production of the test turbines."
   ]
  },
  {
   "cell_type": "code",
   "execution_count": null,
   "metadata": {},
   "outputs": [],
   "source": [
    "import copy\n",
    "from pathlib import Path\n",
    "\n",
    "import numpy as np\n",
    "import pandas as pd\n",
    "from matplotlib import pyplot as plt\n",
    "\n",
    "from flasc.energy_ratio import energy_ratio as er, total_uplift as tup\n",
    "from flasc.energy_ratio.energy_ratio_input import EnergyRatioInput\n",
    "from flasc.utilities_examples import load_floris_smarteole as load_floris\n",
    "from flasc.visualization import plot_binned_mean_and_ci"
   ]
  },
  {
   "cell_type": "code",
   "execution_count": null,
   "metadata": {},
   "outputs": [],
   "source": [
    "# Suppress warnings\n",
    "import warnings\n",
    "\n",
    "warnings.filterwarnings(\"ignore\")"
   ]
  },
  {
   "attachments": {},
   "cell_type": "markdown",
   "metadata": {},
   "source": [
    "# Step 0: Load processed data\n",
    "\n",
    "Load the processed SCADA data with power curve filtering and northing calibration applied and inspect"
   ]
  },
  {
   "cell_type": "code",
   "execution_count": null,
   "metadata": {},
   "outputs": [],
   "source": [
    "def load_data():\n",
    "    root_path = Path.cwd()\n",
    "    f = root_path / \"postprocessed\" / \"df_scada_data_60s_filtered_and_northing_calibrated.ftr\"\n",
    "    df_scada = pd.read_feather(f)\n",
    "\n",
    "    # # Optionally: downsample to [x] minute averages to speed up things\n",
    "    # cols_angular = [c for c in df_scada if ((\"wd_\" in c) or (\"yaw_\" in c))]\n",
    "    # df_scada = fto.df_downsample(\n",
    "    #     df_scada,\n",
    "    #     cols_angular=cols_angular,\n",
    "    #     window_width=td(seconds=600),\n",
    "    # )\n",
    "\n",
    "    return df_scada\n",
    "\n",
    "\n",
    "df_scada = load_data()"
   ]
  },
  {
   "cell_type": "code",
   "execution_count": null,
   "metadata": {},
   "outputs": [],
   "source": [
    "df_scada.describe()"
   ]
  },
  {
   "cell_type": "code",
   "execution_count": null,
   "metadata": {},
   "outputs": [],
   "source": [
    "df_scada.columns"
   ]
  },
  {
   "attachments": {},
   "cell_type": "markdown",
   "metadata": {},
   "source": [
    "# Step 1: Evaluate offsets\n",
    "\n",
    "Compare the targeted offsets against what was achieved (as measured by the vane on the steering turbine SMV6 (index=5))"
   ]
  },
  {
   "cell_type": "code",
   "execution_count": null,
   "metadata": {},
   "outputs": [],
   "source": [
    "# Parameters\n",
    "start_of_offset = 200  # deg\n",
    "end_of_offset = 240  # deg"
   ]
  },
  {
   "cell_type": "code",
   "execution_count": null,
   "metadata": {},
   "outputs": [],
   "source": [
    "# Add a rounded ws column\n",
    "df_scada = df_scada.assign(ws_round=df_scada.ws_005.round(), wd_to_plot=df_scada.wd_005)\n",
    "\n",
    "# Limit to a few wind speeds for plotting\n",
    "wind_speeds_to_plot = [6, 8, 10, 12]\n",
    "df_plot = df_scada[df_scada.ws_round.isin(wind_speeds_to_plot)]\n",
    "\n",
    "# Melt together targeted and achieved\n",
    "df_plot = (\n",
    "    df_plot[[\"wd_to_plot\", \"ws_round\", \"target_yaw_offset_005\", \"wind_vane_005\", \"control_mode\"]]\n",
    "    # .melt(id_vars=['wd_round','ws_round','control_mode'],\n",
    "    #       var_name='offset_type',\n",
    "    #       value_name='offset_value')\n",
    "    .sort_values([\"wd_to_plot\", \"ws_round\"])\n",
    ")\n",
    "\n",
    "# Set up binning plots\n",
    "x_edges = np.arange(start_of_offset - 20, end_of_offset + 20, 2)\n",
    "\n",
    "fig, axarr = plt.subplots(len(wind_speeds_to_plot), 2, figsize=(10, 10))\n",
    "\n",
    "for ws_idx, ws in enumerate(wind_speeds_to_plot):\n",
    "    for c_idx, control_mode in enumerate([\"baseline\", \"controlled\"]):\n",
    "        ax = axarr[ws_idx, c_idx]\n",
    "        df_sub = df_plot[(df_plot.ws_round == ws) & (df_plot.control_mode == control_mode)]\n",
    "\n",
    "        plot_binned_mean_and_ci(\n",
    "            df_sub.wd_to_plot,\n",
    "            df_sub.target_yaw_offset_005,\n",
    "            color=\"k\",\n",
    "            x_edges=x_edges,\n",
    "            label=\"Targetted Offset\",\n",
    "            ax=ax,\n",
    "        )\n",
    "\n",
    "        plot_binned_mean_and_ci(\n",
    "            df_sub.wd_to_plot,\n",
    "            df_sub.wind_vane_005,\n",
    "            color=\"r\",\n",
    "            x_edges=x_edges,\n",
    "            label=\"SMV6 Vane Measurement\",\n",
    "            ax=ax,\n",
    "        )\n",
    "\n",
    "        ax.set_xlim([start_of_offset - 20, end_of_offset + 20])\n",
    "        ax.set_ylim([-30, 50])\n",
    "        ax.grid(True)\n",
    "        ax.axvline(start_of_offset, color=\"k\", ls=\"--\")\n",
    "        ax.axvline(end_of_offset, color=\"k\", ls=\"--\")\n",
    "\n",
    "        if ws_idx == 0:\n",
    "            ax.set_title(f\"Control Mode: {control_mode}\")\n",
    "\n",
    "        if c_idx == 0:\n",
    "            ax.set_ylabel(f\"Wind Speed: {ws} m/s\\nYaw Misalignment (deg)\")\n",
    "        else:\n",
    "            ax.set_ylabel(\"Yaw Misalignment (deg)\")\n",
    "\n",
    "        if (ws_idx == 0) and (c_idx == 0):\n",
    "            ax.legend()"
   ]
  },
  {
   "cell_type": "code",
   "execution_count": null,
   "metadata": {},
   "outputs": [],
   "source": [
    "# Limit the data to this region\n",
    "df_scada = df_scada[\n",
    "    (df_scada.wd_smarteole > (start_of_offset - 20))\n",
    "    & (df_scada.wd_smarteole < (end_of_offset + 20))\n",
    "]"
   ]
  },
  {
   "attachments": {},
   "cell_type": "markdown",
   "metadata": {},
   "source": [
    "# Step 2: Prepare the data for computing energy ratios\n",
    "\n",
    "The energy ratio class as presently implemented requires explicit identification of the dataframe of the reference wind direction, wind speed, and power columns: \"wd,\" \"ws,\" and \"pow_ref.\" Here, we will set these equal to the reference variables used in the SMARTEOLE wake steering experiment, which we computed in \"02_download_and_format_dataset.ipynb\"."
   ]
  },
  {
   "cell_type": "code",
   "execution_count": null,
   "metadata": {},
   "outputs": [],
   "source": [
    "# Assign wd, ws and pow ref\n",
    "# Subset dataframe\n",
    "df_scada = df_scada.assign(\n",
    "    wd=lambda df_: df_[\"wd_smarteole\"],\n",
    "    ws=lambda df_: df_[\"ws_smarteole\"],\n",
    "    pow_ref=lambda df_: df_[\"pow_ref_smarteole\"],\n",
    ")"
   ]
  },
  {
   "cell_type": "code",
   "execution_count": null,
   "metadata": {},
   "outputs": [],
   "source": [
    "# Split df_scada into baseline and wake steeering on \"controlled\"\n",
    "# periods\n",
    "df_base = df_scada[df_scada.control_mode == \"baseline\"]\n",
    "df_con = df_scada[df_scada.control_mode == \"controlled\"]"
   ]
  },
  {
   "cell_type": "code",
   "execution_count": null,
   "metadata": {},
   "outputs": [],
   "source": [
    "# Construct energy ratio input object using default 10 blocks\n",
    "# TO DO: allow color specification in EnergyRatioInput\n",
    "er_in = EnergyRatioInput([df_base, df_con], [\"Baseline\", \"Controlled\"])\n",
    "er_colors = {\"Baseline\": \"black\", \"Controlled\": \"red\"}"
   ]
  },
  {
   "attachments": {},
   "cell_type": "markdown",
   "metadata": {},
   "source": [
    "# Step 3: Energy ratio plots of SCADA data\n",
    "\n",
    "Plot the energy ratio comparisons for the downstream turbine (SMV5 (Turbine 004)), upstream turbine (SMV6 (Turbine 005)) and the two turbines combined against the reference power (established in earlier notebooks).\n",
    "\n",
    "In contrast to the energy ratios computed for baseline control only, the energy ratios for the \"Baseline\" and \"Controlled\" cases are automatically rebalanced to help ensure a fair comparison between the energy produced with the two control modes. Rebalancing involves weighting the contribution of the energy produced in each wind speed bin evenly for the two cases, even if the data collected for the two scenarios represent different wind speed distributions."
   ]
  },
  {
   "cell_type": "code",
   "execution_count": null,
   "metadata": {},
   "outputs": [],
   "source": [
    "# Check energy ratios on SMV5 (index=4) (downstream turbine)\n",
    "er_out = er.compute_energy_ratio(\n",
    "    er_in,\n",
    "    test_turbines=[4],\n",
    "    use_predefined_ref=True,\n",
    "    use_predefined_wd=True,\n",
    "    use_predefined_ws=True,\n",
    "    wd_step=2.0,\n",
    "    ws_step=1.0,\n",
    ")\n",
    "ax = er_out.plot_energy_ratios(color_dict=er_colors)\n",
    "ax[0].set_title(\"Downstream Turbine: SMV5 (004)\")"
   ]
  },
  {
   "cell_type": "code",
   "execution_count": null,
   "metadata": {},
   "outputs": [],
   "source": [
    "# Check energy ratios on SMV6 (index=5) (upstream turbine)\n",
    "er_out = er.compute_energy_ratio(\n",
    "    er_in,\n",
    "    test_turbines=[5],\n",
    "    use_predefined_ref=True,\n",
    "    use_predefined_wd=True,\n",
    "    use_predefined_ws=True,\n",
    "    wd_step=2.0,\n",
    "    ws_step=1.0,\n",
    ")\n",
    "ax = er_out.plot_energy_ratios(color_dict=er_colors)\n",
    "ax[0].set_title(\"Upstream Turbine: SMV6 (005)\")"
   ]
  },
  {
   "cell_type": "code",
   "execution_count": null,
   "metadata": {},
   "outputs": [],
   "source": [
    "# Check energy ratios on for combination of SMV5 and SMV6\n",
    "er_out = er.compute_energy_ratio(\n",
    "    er_in,\n",
    "    test_turbines=[5, 4],\n",
    "    use_predefined_ref=True,\n",
    "    use_predefined_wd=True,\n",
    "    use_predefined_ws=True,\n",
    "    wd_step=2.0,\n",
    "    ws_step=1.0,\n",
    ")\n",
    "ax = er_out.plot_energy_ratios(color_dict=er_colors)\n",
    "ax[0].set_title(\"Upstream and Downstream Turbines Combined: SMV5+SMV6 (004+005)\")"
   ]
  },
  {
   "attachments": {},
   "cell_type": "markdown",
   "metadata": {},
   "source": [
    "# Step 4: Use bootstrapping to estimate uncertainty\n",
    "\n",
    "Now, we'll plot the energy ratio comparisons for the upstream and downstream turbines combined with bootstrapping to quantify uncertainty.\n",
    "\n",
    "First we'll use normal bootstrapping, in which the timestamps used in the energy ratio calculation are randomly resampled with replacement each bootstrap iteration.\n",
    "\n",
    "The shaded regions in the plots below indicate the 95% confidence intervals of the mean energy ratio estimates."
   ]
  },
  {
   "cell_type": "code",
   "execution_count": null,
   "metadata": {},
   "outputs": [],
   "source": [
    "# Check energy ratios on for combination of SMV5 and SMV6\n",
    "# Using N=40 bootstraps\n",
    "er_out = er.compute_energy_ratio(\n",
    "    er_in,\n",
    "    test_turbines=[5, 4],\n",
    "    use_predefined_ref=True,\n",
    "    use_predefined_wd=True,\n",
    "    use_predefined_ws=True,\n",
    "    wd_step=2.0,\n",
    "    ws_step=1.0,\n",
    "    N=40,\n",
    ")\n",
    "er_out.plot_energy_ratios(color_dict=er_colors)\n",
    "# s.plot_energy_ratios(show_barplot_legend=False)"
   ]
  },
  {
   "attachments": {},
   "cell_type": "markdown",
   "metadata": {},
   "source": [
    "As expected, the uncertainty is higher for wind directions with fewer data samples.\n",
    "\n",
    "Next we'll use block bootstrapping, in which the data used in the energy ratio calculation are first grouped into blocks of consecutive timestamps and the individual blocks are randomly resampled with replacement each bootstrap iteration. In this example, we'll divide the data into 10 blocks. Block bootstrapping can provide a more realistic estimate of the true uncertainty than normal bootstrapping."
   ]
  },
  {
   "cell_type": "code",
   "execution_count": null,
   "metadata": {},
   "outputs": [],
   "source": [
    "# Check energy ratios on for combination of SMV5 and SMV6\n",
    "# Using N=40 bootstraps without block bootstrapping\n",
    "er_in_noblocks = EnergyRatioInput(\n",
    "    [df_base, df_con], [\"Baseline\", \"Controlled\"], num_blocks=min(len(df_base), len(df_con))\n",
    ")\n",
    "er_out = er.compute_energy_ratio(\n",
    "    er_in_noblocks,\n",
    "    test_turbines=[5, 4],\n",
    "    use_predefined_ref=True,\n",
    "    use_predefined_wd=True,\n",
    "    use_predefined_ws=True,\n",
    "    wd_step=2.0,\n",
    "    ws_step=1.0,\n",
    "    N=40,\n",
    ")\n",
    "er_out.plot_energy_ratios(color_dict=er_colors)"
   ]
  },
  {
   "attachments": {},
   "cell_type": "markdown",
   "metadata": {},
   "source": [
    "# Step 6: Plot the energy ratio gain with bootstrapping\n",
    "\n",
    "Next, we will plot the difference between the energy ratios with and without wake steering. These plots will show how much wake steering increases (or decreases) energy production as a function of wind direction. \n",
    "\n",
    "The first plot shows the energy ratio gain for the downstream turbine (SMV5) and the second plot shows the energy gain for the two turbines combined."
   ]
  },
  {
   "cell_type": "code",
   "execution_count": null,
   "metadata": {},
   "outputs": [],
   "source": [
    "# SMV5 (Downstream)\n",
    "er_out = er.compute_energy_ratio(\n",
    "    er_in,\n",
    "    test_turbines=[4],\n",
    "    use_predefined_ref=True,\n",
    "    use_predefined_wd=True,\n",
    "    use_predefined_ws=True,\n",
    "    wd_step=2.0,\n",
    "    ws_step=1.0,\n",
    "    uplift_pairs=[(\"Baseline\", \"Controlled\")],\n",
    "    uplift_names=[\"Uplift\"],\n",
    "    N=40,\n",
    ")\n",
    "ax = er_out.plot_uplift(color_dict={\"Uplift\": \"black\"})\n",
    "ax[0].set_title(\"Downstream Turbine: SMV5 (004)\")"
   ]
  },
  {
   "cell_type": "code",
   "execution_count": null,
   "metadata": {},
   "outputs": [],
   "source": [
    "# SMV5 + SMV6 (Combined)\n",
    "er_out = er.compute_energy_ratio(\n",
    "    er_in,\n",
    "    test_turbines=[4, 5],\n",
    "    use_predefined_ref=True,\n",
    "    use_predefined_wd=True,\n",
    "    use_predefined_ws=True,\n",
    "    wd_step=2.0,\n",
    "    ws_step=1.0,\n",
    "    uplift_pairs=[(\"Baseline\", \"Controlled\")],\n",
    "    uplift_names=[\"Uplift\"],\n",
    "    N=40,\n",
    ")\n",
    "ax = er_out.plot_uplift(color_dict={\"Uplift\": \"black\"})\n",
    "ax[0].set_title(\"Upstream and Downstream Turbines Combined: SMV5+SMV6 (004+005)\")"
   ]
  },
  {
   "attachments": {},
   "cell_type": "markdown",
   "metadata": {},
   "source": [
    "The above plots indicate that wake steering increases the energy of the downstream turbine significantly for wind directions between 205 and 220 degrees. When including the upstream turbine, the impact on energy is smaller, but wake steering still yields an increase in energy."
   ]
  },
  {
   "attachments": {},
   "cell_type": "markdown",
   "metadata": {},
   "source": [
    "# Step 7: Compare with FLORIS\n",
    "\n",
    "Now we will compare the observed energy ratios and energy ratio gains for baseline and wake steering control based on SCADA data to the equivalent FLORIS predictions."
   ]
  },
  {
   "cell_type": "code",
   "execution_count": null,
   "metadata": {},
   "outputs": [],
   "source": [
    "# Define a small function to build a dataframe of FLORIS predictions with yaw misalignment\n",
    "# for comparison with SCADA\n",
    "\n",
    "num_turbines = 7\n",
    "\n",
    "\n",
    "def build_floris_data_frame(\n",
    "    fi_in, wind_speeds, wind_directions, yaw_angles_in=None, ref_pow_columns=[0, 1, 2, 6]\n",
    "):\n",
    "    fi_ = copy.deepcopy(fi_in)\n",
    "\n",
    "    yaw_angles = np.zeros([len(wind_directions), 1, num_turbines])\n",
    "    if yaw_angles_in is not None:\n",
    "        yaw_angles[:, 0, 5] = yaw_angles_in  # Apply angles to SMV6\n",
    "\n",
    "    fi_.reinitialize(wind_speeds=wind_speeds, wind_directions=wind_directions, time_series=True)\n",
    "\n",
    "    fi_.calculate_wake(yaw_angles=yaw_angles)\n",
    "\n",
    "    turbine_powers = fi_.get_turbine_powers().squeeze() / 1000.0\n",
    "\n",
    "    df_ = pd.DataFrame(\n",
    "        turbine_powers, columns=[\"pow_{:03d}\".format(ii) for ii in range(num_turbines)]\n",
    "    )\n",
    "\n",
    "    df_ = df_.assign(\n",
    "        ws=wind_speeds,\n",
    "        wd=wind_directions,\n",
    "        pow_ref=df_[[\"pow_{:03d}\".format(ii) for ii in ref_pow_columns]].mean(axis=1),\n",
    "    )\n",
    "\n",
    "    return df_"
   ]
  },
  {
   "attachments": {},
   "cell_type": "markdown",
   "metadata": {},
   "source": [
    "## Comparison assuming no wind direction uncertainty/variability in FLORIS\n",
    "\n",
    "Compute FLORIS predictions of power production for the time series of reference wind directions and wind speeds in the SCADA data set, using the Gauss-Curl Hybrid wake model. The yaw misalignment of the steered turbine, SMV6 (005), is set to the measured wind vane angle at each timestamp. Yaw misalignments for all other turbines are set to 0."
   ]
  },
  {
   "cell_type": "code",
   "execution_count": null,
   "metadata": {},
   "outputs": [],
   "source": [
    "fi, _ = load_floris(\"gch\", wd_std=0.0)"
   ]
  },
  {
   "cell_type": "code",
   "execution_count": null,
   "metadata": {},
   "outputs": [],
   "source": [
    "# Resimulate FLORIS using time-domain sim assuming all\n",
    "# yaws are 0 except for SMV5, which follows either target exactly or\n",
    "# what is measured via the vane\n",
    "\n",
    "# Baseline / Perfect yawing\n",
    "wind_speeds_baseline = df_base.ws.values\n",
    "wind_directions_baseline = df_base.wd.values\n",
    "yaw_angles_baseline_target = None\n",
    "yaw_angles_baseline_measured = df_base.wind_vane_005.values\n",
    "\n",
    "wind_speeds_con = df_con.ws.values\n",
    "wind_directions_con = df_con.wd.values\n",
    "yaw_angles_con_target = df_con.target_yaw_offset_005.values\n",
    "yaw_angles_con_measured = df_con.wind_vane_005.values\n",
    "\n",
    "# Compute FLORIS assuming target offsets and no wd std\n",
    "df_floris_target_offset_baseline = build_floris_data_frame(\n",
    "    fi, wind_speeds_baseline, wind_directions_baseline, yaw_angles_baseline_target\n",
    ")\n",
    "df_floris_target_offset_con = build_floris_data_frame(\n",
    "    fi, wind_speeds_con, wind_directions_con, yaw_angles_con_measured\n",
    ")"
   ]
  },
  {
   "attachments": {},
   "cell_type": "markdown",
   "metadata": {},
   "source": [
    "Now we'll plot a comparison of the energy ratios based on SCADA data and FLORIS predictions for the downstream turbine SMV5 (004)."
   ]
  },
  {
   "cell_type": "code",
   "execution_count": null,
   "metadata": {},
   "outputs": [],
   "source": [
    "# Construct energy ratio object\n",
    "er_in = EnergyRatioInput(\n",
    "    [df_base, df_con, df_floris_target_offset_baseline, df_floris_target_offset_con],\n",
    "    [\"Baseline [SCADA]\", \"Controlled [SCADA]\", \"Baseline [FLORIS]\", \"Controlled [FLORIS]\"],\n",
    ")\n",
    "\n",
    "er_out = er.compute_energy_ratio(\n",
    "    er_in,\n",
    "    test_turbines=[4],\n",
    "    use_predefined_ref=True,\n",
    "    use_predefined_wd=True,\n",
    "    use_predefined_ws=True,\n",
    "    wd_step=2.0,\n",
    "    ws_step=1.0,\n",
    ")\n",
    "ax = er_out.plot_energy_ratios(overlay_frequency=True)\n",
    "ax[0].set_title(\"Downstream Turbine: SMV5 (004)\")"
   ]
  },
  {
   "attachments": {},
   "cell_type": "markdown",
   "metadata": {},
   "source": [
    "The FLORIS predictions agree reasonably well with the SCADA-based energy ratios, although FLORIS predicts slightly lower wake losses overall. Note that the SCADA-based energy ratios exceed 1 at the edge of the wake between 220 and 235 degrees, whereas FLORIS predicts energy ratios of 1. The higher SCADA-based energy ratios could indicate a speed up region at the edge of the wake where SMV5 outperforms the reference turbines.  "
   ]
  },
  {
   "attachments": {},
   "cell_type": "markdown",
   "metadata": {},
   "source": [
    "## Compare the energy ratio gains from SCADA and FLORIS\n",
    "\n",
    "Lastly, we'll compare the changes in the energy ratios from wake steering based on the SCADA data with the equivalent FLORIS predictions for the downstream turbine adn the two turbines combined."
   ]
  },
  {
   "cell_type": "code",
   "execution_count": null,
   "metadata": {},
   "outputs": [],
   "source": [
    "# Downstream only\n",
    "er_out = er.compute_energy_ratio(\n",
    "    er_in,\n",
    "    test_turbines=[4],\n",
    "    use_predefined_ref=True,\n",
    "    use_predefined_wd=True,\n",
    "    use_predefined_ws=True,\n",
    "    wd_step=2.0,\n",
    "    ws_step=1.0,\n",
    "    uplift_pairs=[\n",
    "        (\"Baseline [SCADA]\", \"Controlled [SCADA]\"),\n",
    "        (\"Baseline [FLORIS]\", \"Controlled [FLORIS]\"),\n",
    "    ],\n",
    "    uplift_names=[\"Uplift [SCADA]\", \"Uplift [FLORIS]\"],\n",
    "    N=40,\n",
    ")\n",
    "er_uplift_colors = {\"Uplift [SCADA]\": \"black\", \"Uplift [FLORIS]\": \"blue\", \"weight\": \"red\"}\n",
    "\n",
    "ax = er_out.plot_uplift(color_dict=er_uplift_colors, overlay_frequency=True)\n",
    "ax[0].set_title(\"Downstream Turbine: SMV5 (004)\")"
   ]
  },
  {
   "cell_type": "code",
   "execution_count": null,
   "metadata": {},
   "outputs": [],
   "source": [
    "# Combined\n",
    "er_out = er.compute_energy_ratio(\n",
    "    er_in,\n",
    "    test_turbines=[4, 5],\n",
    "    use_predefined_ref=True,\n",
    "    use_predefined_wd=True,\n",
    "    use_predefined_ws=True,\n",
    "    wd_step=2.0,\n",
    "    ws_step=1.0,\n",
    "    uplift_pairs=[\n",
    "        (\"Baseline [SCADA]\", \"Controlled [SCADA]\"),\n",
    "        (\"Baseline [FLORIS]\", \"Controlled [FLORIS]\"),\n",
    "    ],\n",
    "    uplift_names=[\"Uplift [SCADA]\", \"Uplift [FLORIS]\"],\n",
    "    N=40,\n",
    ")\n",
    "ax = er_out.plot_uplift(color_dict=er_uplift_colors, overlay_frequency=True)\n",
    "ax[0].set_title(\"Upstream and Downstream Turbines Combined: SMV5+SMV6 (004+005)\")"
   ]
  },
  {
   "attachments": {},
   "cell_type": "markdown",
   "metadata": {},
   "source": [
    "In general, although the SCADA-based energy ratios are much noisier than the FLORIS predictions, the observed energy gains are relatively close to the predicted gains."
   ]
  },
  {
   "cell_type": "markdown",
   "metadata": {},
   "source": [
    "## Compare the total uplift amounts above 4m/s"
   ]
  },
  {
   "cell_type": "code",
   "execution_count": null,
   "metadata": {},
   "outputs": [],
   "source": [
    "# Downstream only\n",
    "total_uplift_result = tup.compute_total_uplift(\n",
    "    er_in,\n",
    "    test_turbines=[4, 5],\n",
    "    use_predefined_ref=True,\n",
    "    use_predefined_wd=True,\n",
    "    use_predefined_ws=True,\n",
    "    wd_step=2.0,\n",
    "    wd_min=195.0,  # As in paper\n",
    "    wd_max=240.0,  # As in paper\n",
    "    ws_step=1.0,\n",
    "    ws_min=4.0,\n",
    "    uplift_pairs=[\n",
    "        (\"Baseline [SCADA]\", \"Controlled [SCADA]\"),\n",
    "        (\"Baseline [FLORIS]\", \"Controlled [FLORIS]\"),\n",
    "    ],\n",
    "    uplift_names=[\"Uplift [SCADA]\", \"Uplift [FLORIS]\"],\n",
    "    N=100,\n",
    "    percentiles=(10, 90),  # Use P10 and P90\n",
    ")\n",
    "\n",
    "\n",
    "print(\n",
    "    f\"Percent increase in total energy production for combined turbines: \"\n",
    "    f\"{total_uplift_result['Uplift [SCADA]']['energy_uplift_ctr_pc']:.3f}% (SCADA)\"\n",
    ")\n",
    "print(\n",
    "    f\"Percent increase in total energy production for combined turbines: \"\n",
    "    f\"{total_uplift_result['Uplift [FLORIS]']['energy_uplift_ctr_pc']:.3f}% (FLORIS)\"\n",
    ")\n",
    "print(\" \")\n",
    "print(\"Full contents of dictionary including P10 and P90 values...\")\n",
    "total_uplift_result"
   ]
  }
 ],
 "metadata": {
  "interpreter": {
   "hash": "96c53852a1e56d9fbc8381f88ff3256056a2f574c5e86cd3dfe6ce1bc9d68e6a"
  },
  "kernelspec": {
   "display_name": "Python 3.10.4 64-bit ('flasc-reqs': conda)",
   "name": "python3"
  },
  "language_info": {
   "codemirror_mode": {
    "name": "ipython",
    "version": 3
   },
   "file_extension": ".py",
   "mimetype": "text/x-python",
   "name": "python",
   "nbconvert_exporter": "python",
   "pygments_lexer": "ipython3",
   "version": "3.10.4"
  },
  "toc": {
   "base_numbering": 1,
   "nav_menu": {},
   "number_sections": true,
   "sideBar": true,
   "skip_h1_title": false,
   "title_cell": "Table of Contents",
   "title_sidebar": "Contents",
   "toc_cell": false,
   "toc_position": {},
   "toc_section_display": true,
   "toc_window_display": false
  }
 },
 "nbformat": 4,
 "nbformat_minor": 2
}
