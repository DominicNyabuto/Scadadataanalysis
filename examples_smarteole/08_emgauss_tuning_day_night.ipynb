{
 "cells": [
  {
   "attachments": {},
   "cell_type": "markdown",
   "metadata": {},
   "source": [
    "# Demonstrate adding day and night to a scada dataframe\n",
    "\n",
    "This notebook shows how, given lat/long and UTC time, a column with a boolean is_day value is added\n",
    "This can be useful for a quick partinioning of the data into these two bins"
   ]
  },
  {
   "cell_type": "markdown",
   "metadata": {},
   "source": []
  },
  {
   "cell_type": "code",
   "execution_count": null,
   "metadata": {},
   "outputs": [],
   "source": [
    "from pathlib import Path\n",
    "\n",
    "import pandas as pd\n",
    "\n",
    "from flasc.dataframe_operations.dataframe_manipulations import (\n",
    "    is_day_or_night,\n",
    "    plot_sun_altitude_with_day_night_color,\n",
    ")"
   ]
  },
  {
   "cell_type": "code",
   "execution_count": null,
   "metadata": {},
   "outputs": [],
   "source": [
    "import matplotlib.pyplot as plt\n",
    "import numpy as np\n",
    "\n",
    "import flasc.model_tuning.floris_tuning as ft\n",
    "from flasc.energy_ratio import energy_ratio as er\n",
    "from flasc.energy_ratio.energy_ratio_input import EnergyRatioInput\n",
    "from flasc.model_tuning.tuner_utils import resim_floris, set_fi_param\n",
    "from flasc.utilities_examples import load_floris_smarteole"
   ]
  },
  {
   "cell_type": "code",
   "execution_count": null,
   "metadata": {},
   "outputs": [],
   "source": [
    "# Suppress warnings\n",
    "import warnings\n",
    "\n",
    "warnings.filterwarnings(\"ignore\")"
   ]
  },
  {
   "attachments": {},
   "cell_type": "markdown",
   "metadata": {},
   "source": [
    "# Step 0: Demonstrate day/night selection\n",
    "\n",
    "Load the processed SCADA data with power curve filtering and northing calibration applied and apply day/night identification in various ways"
   ]
  },
  {
   "cell_type": "code",
   "execution_count": null,
   "metadata": {},
   "outputs": [],
   "source": [
    "root_path = Path.cwd()\n",
    "f = root_path / \"postprocessed\" / \"df_scada_data_60s_filtered_and_northing_calibrated.ftr\"\n",
    "df_scada = pd.read_feather(f)"
   ]
  },
  {
   "cell_type": "markdown",
   "metadata": {},
   "source": [
    "## Add is_day flag\n",
    "\n",
    "Use the approximate lat/long of the wind farm to identify day/night using sun altitude"
   ]
  },
  {
   "cell_type": "code",
   "execution_count": null,
   "metadata": {},
   "outputs": [],
   "source": [
    "latitude = 49.8435\n",
    "longitude = 2.801556\n",
    "\n",
    "# Compute day/night in default settings and plot\n",
    "df_scada = is_day_or_night(df_scada, latitude, longitude)\n",
    "\n",
    "# Plot the day/night data\n",
    "fig, ax = plt.subplots(1, 2, sharey=True)\n",
    "fig.set_size_inches(10, 5)\n",
    "plot_sun_altitude_with_day_night_color(df_scada, ax=ax[0])\n",
    "plot_sun_altitude_with_day_night_color(df_scada.iloc[:5000], ax=ax[1])\n",
    "\n",
    "ax[0].set_title(\"Full SCADA record\")\n",
    "ax[1].set_title(\"First 5000 points\")"
   ]
  },
  {
   "cell_type": "code",
   "execution_count": null,
   "metadata": {},
   "outputs": [],
   "source": [
    "# Use lag feature\n",
    "df_scada = is_day_or_night(df_scada, latitude, longitude, lag_hours=1)\n",
    "\n",
    "# Plot the day/night data\n",
    "fig, ax = plt.subplots(1, 2, sharey=True)\n",
    "fig.set_size_inches(10, 5)\n",
    "plot_sun_altitude_with_day_night_color(df_scada, ax=ax[0])\n",
    "plot_sun_altitude_with_day_night_color(df_scada.iloc[:5000], ax=ax[1])\n",
    "\n",
    "ax[0].set_title(\"Full SCADA record\")\n",
    "ax[1].set_title(\"First 5000 points\")"
   ]
  },
  {
   "cell_type": "code",
   "execution_count": null,
   "metadata": {},
   "outputs": [],
   "source": [
    "# Use sunrise, sunset altitude specification feature\n",
    "df_scada = is_day_or_night(df_scada, latitude, longitude, sunrise_altitude=20, sunset_altitude=-10)\n",
    "\n",
    "# Plot the day/night data\n",
    "fig, ax = plt.subplots(1, 2, sharey=True)\n",
    "fig.set_size_inches(10, 5)\n",
    "plot_sun_altitude_with_day_night_color(df_scada, ax=ax[0])\n",
    "plot_sun_altitude_with_day_night_color(df_scada.iloc[:5000], ax=ax[1])\n",
    "\n",
    "ax[0].set_title(\"Full SCADA record\")\n",
    "ax[1].set_title(\"First 5000 points\")"
   ]
  },
  {
   "cell_type": "markdown",
   "metadata": {},
   "source": [
    "# Step 1: Add day-night flag to dataframe"
   ]
  },
  {
   "cell_type": "code",
   "execution_count": null,
   "metadata": {},
   "outputs": [],
   "source": [
    "# Compute one more time with defaults\n",
    "df_scada = is_day_or_night(df_scada, latitude, longitude)"
   ]
  },
  {
   "cell_type": "code",
   "execution_count": null,
   "metadata": {},
   "outputs": [],
   "source": [
    "# Limit SCADA data to region of wake steering\n",
    "\n",
    "# Specify offsets\n",
    "start_of_offset = 200  # deg\n",
    "end_of_offset = 240  # deg\n",
    "\n",
    "# Limit SCADA to this region\n",
    "df_scada = df_scada[\n",
    "    (df_scada.wd_smarteole > (start_of_offset - 20))\n",
    "    & (df_scada.wd_smarteole < (end_of_offset + 20))\n",
    "]"
   ]
  },
  {
   "cell_type": "code",
   "execution_count": null,
   "metadata": {},
   "outputs": [],
   "source": [
    "# Assign wd, ws and pow ref and subset SCADA based on reference variables used\n",
    "# in the SMARTEOLE wake steering experiment (TODO reference the experiment)\n",
    "df_scada = df_scada.assign(\n",
    "    wd=lambda df_: df_[\"wd_smarteole\"],\n",
    "    ws=lambda df_: df_[\"ws_smarteole\"],\n",
    "    pow_ref=lambda df_: df_[\"pow_ref_smarteole\"],\n",
    ")"
   ]
  },
  {
   "cell_type": "code",
   "execution_count": null,
   "metadata": {},
   "outputs": [],
   "source": [
    "# For tuning grab the reference, control and test turbines\n",
    "ref_turbs = [0, 1, 2, 6]\n",
    "test_turbs = [4]\n",
    "control_turbs = [5]"
   ]
  },
  {
   "cell_type": "code",
   "execution_count": null,
   "metadata": {},
   "outputs": [],
   "source": [
    "# Split SCADA into baseline and wake steeering (controlled)\n",
    "df_scada_baseline = df_scada[df_scada.control_mode == \"baseline\"]\n",
    "df_scada_controlled = df_scada[df_scada.control_mode == \"controlled\"]"
   ]
  },
  {
   "cell_type": "code",
   "execution_count": null,
   "metadata": {},
   "outputs": [],
   "source": [
    "df_scada_baseline_day = df_scada_baseline[df_scada_baseline.is_day is True]\n",
    "df_scada_baseline_night = df_scada_baseline[df_scada_baseline.is_day is False]\n",
    "df_scada_controlled_day = df_scada_controlled[df_scada_controlled.is_day is True]\n",
    "df_scada_controlled_night = df_scada_controlled[df_scada_controlled.is_day is False]"
   ]
  },
  {
   "cell_type": "markdown",
   "metadata": {},
   "source": [
    "# Load the FLORIS model"
   ]
  },
  {
   "cell_type": "code",
   "execution_count": null,
   "metadata": {},
   "outputs": [],
   "source": [
    "fi, _ = load_floris_smarteole(wake_model=\"emgauss\")\n",
    "D = fi.floris.farm.rotor_diameters[0]"
   ]
  },
  {
   "cell_type": "markdown",
   "metadata": {},
   "source": [
    "## Compare expansion tuning"
   ]
  },
  {
   "cell_type": "code",
   "execution_count": null,
   "metadata": {},
   "outputs": [],
   "source": [
    "wake_expansion_rates = np.arange(start=0.0005, stop=0.025, step=0.0005)"
   ]
  },
  {
   "cell_type": "markdown",
   "metadata": {},
   "source": [
    "### Day Time"
   ]
  },
  {
   "cell_type": "code",
   "execution_count": null,
   "metadata": {},
   "outputs": [],
   "source": [
    "df_scada = df_scada_baseline_day.copy()\n",
    "floris_wake_losses, scada_wake_loss = ft.sweep_velocity_model_parameter_for_overall_wake_losses(\n",
    "    parameter=[\"wake\", \"wake_velocity_parameters\", \"empirical_gauss\", \"wake_expansion_rates\"],\n",
    "    value_candidates=wake_expansion_rates,\n",
    "    df_scada_in=df_scada,\n",
    "    fi_in=fi,\n",
    "    param_idx=0,\n",
    "    ref_turbines=ref_turbs,\n",
    "    test_turbines=test_turbs,\n",
    "    wd_min=200,  # FOCUS ON WAKE REGION WITH CONTROL\n",
    "    wd_max=225,  # FOCUS ON WAKE REGION WITH CONTROL\n",
    ")\n",
    "print(floris_wake_losses, scada_wake_loss)"
   ]
  },
  {
   "cell_type": "code",
   "execution_count": null,
   "metadata": {},
   "outputs": [],
   "source": [
    "fig, ax = plt.subplots()\n",
    "best_param_day = ft.select_best_wake_model_parameter(\n",
    "    floris_wake_losses, scada_wake_loss, wake_expansion_rates, ax=ax\n",
    ")\n",
    "ax.set_xlabel(\"Wake Expansion Parameter (day time)\")\n",
    "ax.set_ylabel(\"Percent Wake Loss\")"
   ]
  },
  {
   "cell_type": "markdown",
   "metadata": {},
   "source": [
    "### Night Time\n"
   ]
  },
  {
   "cell_type": "code",
   "execution_count": null,
   "metadata": {},
   "outputs": [],
   "source": [
    "df_scada = df_scada_baseline_night.copy()\n",
    "floris_wake_losses, scada_wake_loss = ft.sweep_velocity_model_parameter_for_overall_wake_losses(\n",
    "    parameter=[\"wake\", \"wake_velocity_parameters\", \"empirical_gauss\", \"wake_expansion_rates\"],\n",
    "    value_candidates=wake_expansion_rates,\n",
    "    df_scada_in=df_scada,\n",
    "    fi_in=fi,\n",
    "    param_idx=0,\n",
    "    ref_turbines=ref_turbs,\n",
    "    test_turbines=test_turbs,\n",
    "    wd_min=200,  # FOCUS ON WAKE REGION WITH CONTROL\n",
    "    wd_max=225,  # FOCUS ON WAKE REGION WITH CONTROL\n",
    ")\n",
    "print(floris_wake_losses, scada_wake_loss)"
   ]
  },
  {
   "cell_type": "code",
   "execution_count": null,
   "metadata": {},
   "outputs": [],
   "source": [
    "fig, ax = plt.subplots()\n",
    "best_param_night = ft.select_best_wake_model_parameter(\n",
    "    floris_wake_losses, scada_wake_loss, wake_expansion_rates, ax=ax\n",
    ")\n",
    "ax.set_xlabel(\"Wake Expansion Parameter (night time)\")\n",
    "ax.set_ylabel(\"Percent Wake Loss\")"
   ]
  },
  {
   "cell_type": "code",
   "execution_count": null,
   "metadata": {},
   "outputs": [],
   "source": [
    "## Make models of FLORIS for daytime and night time"
   ]
  },
  {
   "cell_type": "code",
   "execution_count": null,
   "metadata": {},
   "outputs": [],
   "source": [
    "fi_day = set_fi_param(\n",
    "    fi,\n",
    "    [\"wake\", \"wake_velocity_parameters\", \"empirical_gauss\", \"wake_expansion_rates\"],\n",
    "    param_idx=0,\n",
    "    value=best_param_day,\n",
    ")\n",
    "\n",
    "fi_night = set_fi_param(\n",
    "    fi,\n",
    "    [\"wake\", \"wake_velocity_parameters\", \"empirical_gauss\", \"wake_expansion_rates\"],\n",
    "    param_idx=0,\n",
    "    value=best_param_night,\n",
    ")"
   ]
  },
  {
   "cell_type": "code",
   "execution_count": null,
   "metadata": {},
   "outputs": [],
   "source": [
    "# Resimulate FLORIS\n",
    "df_floris_day = resim_floris(fi_day, df_scada_baseline_day)\n",
    "df_floris_night = resim_floris(fi_night, df_scada_baseline_night)"
   ]
  },
  {
   "cell_type": "code",
   "execution_count": null,
   "metadata": {},
   "outputs": [],
   "source": [
    "# Compare energy ratios\n",
    "\n",
    "er_in = EnergyRatioInput(\n",
    "    [df_scada_baseline_day, df_floris_day, df_scada_baseline_night, df_floris_night],\n",
    "    [\"SCADA [Day]\", \"FLORIS [Day]\", \"SCADA [Night]\", \"FLORIS [Night]\"],\n",
    ")\n",
    "\n",
    "er_out = er.compute_energy_ratio(\n",
    "    er_in,\n",
    "    ref_turbines=ref_turbs,\n",
    "    test_turbines=test_turbs,\n",
    "    use_predefined_wd=True,\n",
    "    use_predefined_ws=True,\n",
    "    wd_step=2.0,\n",
    "    ws_step=1.0,\n",
    "    N=40,\n",
    ")\n",
    "ax = er_out.plot_energy_ratios(\n",
    "    overlay_frequency=True,\n",
    "    color_dict={\n",
    "        \"SCADA [Day]\": \"orange\",\n",
    "        \"FLORIS [Day]\": \"r\",\n",
    "        \"SCADA [Night]\": \"k\",\n",
    "        \"FLORIS [Night]\": \"navy\",\n",
    "    },\n",
    ")\n",
    "ax[0].set_title(\"Comparing pre/post tuning FLORIS\")"
   ]
  },
  {
   "cell_type": "markdown",
   "metadata": {},
   "source": [
    "# Horizontal deflection gains"
   ]
  },
  {
   "cell_type": "code",
   "execution_count": null,
   "metadata": {},
   "outputs": [],
   "source": [
    "hor_def_gains = np.arange(start=0.25, stop=4, step=0.25)"
   ]
  },
  {
   "cell_type": "code",
   "execution_count": null,
   "metadata": {},
   "outputs": [],
   "source": [
    "# Set the yaw angle matrix\n",
    "yaw_vec_day = df_scada_controlled_day.wind_vane_005\n",
    "yaw_vec_night = df_scada_controlled_night.wind_vane_005\n",
    "\n",
    "yaw_angles_day = np.zeros((yaw_vec_day.shape[0], 1, 7))\n",
    "yaw_angles_day[:, 0, control_turbs[0]] = yaw_vec_day\n",
    "\n",
    "yaw_angles_night = np.zeros((yaw_vec_night.shape[0], 1, 7))\n",
    "yaw_angles_night[:, 0, control_turbs[0]] = yaw_vec_night"
   ]
  },
  {
   "cell_type": "markdown",
   "metadata": {},
   "source": [
    "### Daytime"
   ]
  },
  {
   "cell_type": "code",
   "execution_count": null,
   "metadata": {},
   "outputs": [],
   "source": [
    "floris_uplifts, scada_uplift = ft.sweep_deflection_parameter_for_total_uplift(\n",
    "    parameter=[\n",
    "        \"wake\",\n",
    "        \"wake_deflection_parameters\",\n",
    "        \"empirical_gauss\",\n",
    "        \"horizontal_deflection_gain_D\",\n",
    "    ],\n",
    "    value_candidates=hor_def_gains,\n",
    "    df_scada_baseline_in=df_scada_baseline_day,\n",
    "    df_scada_wakesteering_in=df_scada_controlled_day,\n",
    "    fi_in=fi_day,\n",
    "    ref_turbines=ref_turbs,\n",
    "    test_turbines=test_turbs,\n",
    "    yaw_angles_wakesteering=yaw_angles_day,\n",
    "    ws_min=5,\n",
    "    wd_min=205,\n",
    "    wd_max=225,\n",
    ")"
   ]
  },
  {
   "cell_type": "code",
   "execution_count": null,
   "metadata": {},
   "outputs": [],
   "source": [
    "fig, ax = plt.subplots()\n",
    "best_param_day = ft.select_best_wake_model_parameter(\n",
    "    floris_uplifts, scada_uplift, hor_def_gains, ax=ax\n",
    ")\n",
    "ax.set_xlabel(\"Hor Def Parameter (day time)\")\n",
    "ax.set_ylabel(\"Percent Uplift\")"
   ]
  },
  {
   "cell_type": "markdown",
   "metadata": {},
   "source": [
    "The plot above demonstrates a potential issue with how we are fitting the \n",
    "horizontal deflection parameter. Yawing reduces thrust so can produce a small uplift\n",
    "even without any wake deflection actually occuring. We are looking into ways to \n",
    "improve the tuning of the horizontal deflection parameter."
   ]
  },
  {
   "cell_type": "markdown",
   "metadata": {},
   "source": [
    "### Night-time"
   ]
  },
  {
   "cell_type": "code",
   "execution_count": null,
   "metadata": {},
   "outputs": [],
   "source": [
    "floris_uplifts, scada_uplift = ft.sweep_deflection_parameter_for_total_uplift(\n",
    "    parameter=[\n",
    "        \"wake\",\n",
    "        \"wake_deflection_parameters\",\n",
    "        \"empirical_gauss\",\n",
    "        \"horizontal_deflection_gain_D\",\n",
    "    ],\n",
    "    value_candidates=hor_def_gains,\n",
    "    df_scada_baseline_in=df_scada_baseline_night,\n",
    "    df_scada_wakesteering_in=df_scada_controlled_night,\n",
    "    fi_in=fi_night,\n",
    "    ref_turbines=ref_turbs,\n",
    "    test_turbines=test_turbs,\n",
    "    yaw_angles_wakesteering=yaw_angles_night,\n",
    "    ws_min=5,\n",
    "    wd_min=205,\n",
    "    wd_max=225,\n",
    ")"
   ]
  },
  {
   "cell_type": "code",
   "execution_count": null,
   "metadata": {},
   "outputs": [],
   "source": [
    "fig, ax = plt.subplots()\n",
    "best_param = ft.select_best_wake_model_parameter(floris_uplifts, scada_uplift, hor_def_gains, ax=ax)\n",
    "ax.set_xlabel(\"Hor Def Parameter (night time)\")\n",
    "ax.set_ylabel(\"Percent Uplift\")"
   ]
  }
 ],
 "metadata": {
  "interpreter": {
   "hash": "96c53852a1e56d9fbc8381f88ff3256056a2f574c5e86cd3dfe6ce1bc9d68e6a"
  },
  "kernelspec": {
   "display_name": "Python 3.10.4 64-bit ('flasc-reqs': conda)",
   "name": "python3"
  },
  "language_info": {
   "codemirror_mode": {
    "name": "ipython",
    "version": 3
   },
   "file_extension": ".py",
   "mimetype": "text/x-python",
   "name": "python",
   "nbconvert_exporter": "python",
   "pygments_lexer": "ipython3",
   "version": "3.10.4"
  },
  "toc": {
   "base_numbering": 1,
   "nav_menu": {},
   "number_sections": true,
   "sideBar": true,
   "skip_h1_title": false,
   "title_cell": "Table of Contents",
   "title_sidebar": "Contents",
   "toc_cell": false,
   "toc_position": {},
   "toc_section_display": true,
   "toc_window_display": false
  }
 },
 "nbformat": 4,
 "nbformat_minor": 2
}
