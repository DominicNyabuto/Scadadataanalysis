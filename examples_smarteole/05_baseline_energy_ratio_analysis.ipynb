{
 "cells": [
  {
   "attachments": {},
   "cell_type": "markdown",
   "metadata": {},
   "source": [
    "# Analyze Energy Ratios during Baseline Operation\n",
    "\n",
    "In this notebook, we will demonstrate how to compute and plot the energy ratio between test and reference turbines as a function of wind direction. We'll focus on baseline operation for this example (i.e., without wake steering). The energy ratios can be used to evaluate wake losses experienced by different turbines."
   ]
  },
  {
   "cell_type": "code",
   "execution_count": null,
   "metadata": {},
   "outputs": [],
   "source": [
    "from pathlib import Path\n",
    "\n",
    "import numpy as np\n",
    "import pandas as pd\n",
    "\n",
    "from flasc import floris_tools as ftools\n",
    "from flasc.dataframe_operations import dataframe_manipulations as dfm\n",
    "from flasc.energy_ratio import energy_ratio as er\n",
    "from flasc.energy_ratio.energy_ratio_input import EnergyRatioInput\n",
    "from flasc.utilities_examples import load_floris_smarteole as load_floris"
   ]
  },
  {
   "cell_type": "code",
   "execution_count": null,
   "metadata": {},
   "outputs": [],
   "source": [
    "# Suppress warnings\n",
    "import warnings\n",
    "\n",
    "warnings.filterwarnings(\"ignore\")"
   ]
  },
  {
   "attachments": {},
   "cell_type": "markdown",
   "metadata": {},
   "source": [
    "# Step 0: Load processed data\n",
    "\n",
    "Load the processed SCADA data with power curve filtering and northing calibration applied and inspect"
   ]
  },
  {
   "cell_type": "code",
   "execution_count": null,
   "metadata": {},
   "outputs": [],
   "source": [
    "def load_data():\n",
    "    root_path = Path.cwd()\n",
    "    f = root_path / \"postprocessed\" / \"df_scada_data_60s_filtered_and_northing_calibrated.ftr\"\n",
    "    df_scada = pd.read_feather(f)\n",
    "\n",
    "    # # Optionally: downsample to [x] minute averages to speed up things\n",
    "    # cols_angular = [c for c in df_scada if ((\"wd_\" in c) or (\"yaw_\" in c))]\n",
    "    # df_scada = fto.df_downsample(\n",
    "    #     df_scada,\n",
    "    #     cols_angular=cols_angular,\n",
    "    #     window_width=td(seconds=600),\n",
    "    # )\n",
    "\n",
    "    return df_scada\n",
    "\n",
    "\n",
    "df_scada = load_data()"
   ]
  },
  {
   "cell_type": "code",
   "execution_count": null,
   "metadata": {},
   "outputs": [],
   "source": [
    "df_scada.describe()"
   ]
  },
  {
   "cell_type": "code",
   "execution_count": null,
   "metadata": {},
   "outputs": [],
   "source": [
    "df_scada.columns"
   ]
  },
  {
   "attachments": {},
   "cell_type": "markdown",
   "metadata": {},
   "source": [
    "# Step 1: Limit to baseline data\n",
    "\n",
    "The SCADA data set contains alternating 1-hour periods with baseline or wake steering control. For these examples, we'll limit the data to baseline operation. "
   ]
  },
  {
   "cell_type": "code",
   "execution_count": null,
   "metadata": {},
   "outputs": [],
   "source": [
    "df_scada = df_scada[df_scada.control_mode == \"baseline\"]"
   ]
  },
  {
   "attachments": {},
   "cell_type": "markdown",
   "metadata": {},
   "source": [
    "# Step 2: Compute reference wind direction, wind speed, and power variables\n",
    "\n",
    "The energy ratio class as presently implemented requires explicit identification of the dataframe of columns \"wd,\" \"ws,\" and \"pow_ref.\" We'll use the FLORIS model to establish which turbines are unwaked for each wind direction to compute the reference variables."
   ]
  },
  {
   "cell_type": "code",
   "execution_count": null,
   "metadata": {},
   "outputs": [],
   "source": [
    "# Load FLORIS model of site\n",
    "fi, turbine_weights = load_floris()"
   ]
  },
  {
   "cell_type": "code",
   "execution_count": null,
   "metadata": {},
   "outputs": [],
   "source": [
    "# Use FLORIS to identify upstream / unwaked turbines for\n",
    "# each direction\n",
    "df_upstream = ftools.get_upstream_turbs_floris(fi)\n",
    "\n",
    "df_upstream.head()"
   ]
  },
  {
   "cell_type": "code",
   "execution_count": null,
   "metadata": {},
   "outputs": [],
   "source": [
    "# Use flasc tools to establish reference wind speeds and directions\n",
    "\n",
    "# Since will be interested in looking at impacts on SMV5/[4], exclude\n",
    "# it from each calculation\n",
    "\n",
    "# Set the wind direction as the average of all turbine averages\n",
    "df_scada = dfm.set_wd_by_turbines(df_scada, [0, 1, 2, 3, 5, 6])\n",
    "\n",
    "# Set the wind speed to be the average of all upstream turbines\n",
    "# (turbines not in a wake in a given direction)\n",
    "# Except for SMV5\n",
    "df_scada = dfm.set_ws_by_upstream_turbines(df_scada, df_upstream, exclude_turbs=[4])\n",
    "\n",
    "# Set the reference power to the average of all upstream turbines\n",
    "# Except for SMV5\n",
    "df_scada = dfm.set_pow_ref_by_upstream_turbines(df_scada, df_upstream, exclude_turbs=[4])"
   ]
  },
  {
   "attachments": {},
   "cell_type": "markdown",
   "metadata": {},
   "source": [
    "# Step 3: Compute and Plot Energy Ratio for Turbine 004\n",
    "\n",
    "Compare the energy ratio for turbine 004 based on the SCADA data to the equivalent predicted energy ratios from each FLORIS model using our precomputed FLORIS results. Turbine 004 is the downstream waked turbine that benefits from wake steering in the SMARTEOLE wake steering field experiment.\n",
    "\n",
    "The energy ratios computed here simply represent the ratio between the energy produced by the test turbines and the energy computed using the reference power variable, \"pow_ref,\" as a function of wind direction."
   ]
  },
  {
   "cell_type": "code",
   "execution_count": null,
   "metadata": {},
   "outputs": [],
   "source": [
    "# Get FLORIS predictions for SCADA dataframe\n",
    "\n",
    "# Get a list of precalculated FLORIS results\n",
    "floris_path = Path.cwd() / \"precalculated_floris_solutions\"\n",
    "wake_models = [\"jensen\", \"gch\", \"cc\", \"turbopark\"]\n",
    "df_fi_list = [None for _ in wake_models]\n",
    "for wii, wake_model in enumerate(wake_models):\n",
    "    fn = floris_path / \"df_fi_approx_{:s}.ftr\".format(wake_model)\n",
    "    if fn.is_file():\n",
    "        df_fi_approx = pd.read_feather(fn)\n",
    "    else:\n",
    "        raise UserWarning(\n",
    "            \"Please run '01_precalculate_floris_solutions.ipynb' \"\n",
    "            \"for the appropriate wake models first.\"\n",
    "        )\n",
    "\n",
    "    df_fi_list[wii] = ftools.interpolate_floris_from_df_approx(\n",
    "        df=df_scada, df_approx=df_fi_approx, method=\"linear\", verbose=True\n",
    "    )"
   ]
  },
  {
   "cell_type": "code",
   "execution_count": null,
   "metadata": {},
   "outputs": [],
   "source": [
    "# Set pow_ref in FLORIS results as before\n",
    "for df_fi in df_fi_list:\n",
    "    df_fi = dfm.set_pow_ref_by_upstream_turbines(df_fi, df_upstream, exclude_turbs=[4])"
   ]
  },
  {
   "cell_type": "code",
   "execution_count": null,
   "metadata": {},
   "outputs": [],
   "source": [
    "# Calculate and plot energy ratios\n",
    "er_in = EnergyRatioInput(\n",
    "    df_fi_list + [df_scada], [\"FLORIS: \" + wm for wm in wake_models] + [\"SCADA data\"]\n",
    ")"
   ]
  },
  {
   "cell_type": "code",
   "execution_count": null,
   "metadata": {},
   "outputs": [],
   "source": [
    "N = 20\n",
    "print(\"Calculating energy ratios with bootstrapping (N={}).\".format(N))\n",
    "print(\"This may take a couple seconds...\")\n",
    "np.random.seed(0)\n",
    "er_out = er.compute_energy_ratio(\n",
    "    er_in,\n",
    "    test_turbines=[4],\n",
    "    use_predefined_ref=True,\n",
    "    use_predefined_wd=True,\n",
    "    use_predefined_ws=True,\n",
    "    wd_step=2.0,\n",
    "    wd_bin_overlap_radius=0.0,\n",
    "    ws_min=6.0,\n",
    "    ws_max=12.0,\n",
    "    N=N,\n",
    "    percentiles=[5.0, 95.0],\n",
    ")\n",
    "ax = er_out.plot_energy_ratios(overlay_frequency=True)\n",
    "ax[0].set_title(\"Energy Ratios for Turbine 004\")"
   ]
  },
  {
   "attachments": {},
   "cell_type": "markdown",
   "metadata": {},
   "source": [
    "As shown in the plot above, overall there is good agreement between the SCADA-based energy ratio curve and the energy ratio predictions based on FLORIS results. However, because of relatively little data for many wind directions, the SCADA-based energy ratios are noisy and can deviate from the expected value of 1 when Turbine 004 is unwaked."
   ]
  },
  {
   "cell_type": "markdown",
   "metadata": {},
   "source": [
    "# Step 4: Rerun the energy ratio calculation with a different wind speed/wind direction distribution\n",
    "\n",
    "As an example, we'll create a distribution with uniform frequency across \n",
    "all wind speds of interest and concentrated in the direction where SMV6 wakes SMV5.\n",
    "\n",
    "Can also be used to evaluate the energy ratios under long-term site conditions."
   ]
  },
  {
   "cell_type": "code",
   "execution_count": null,
   "metadata": {},
   "outputs": [],
   "source": [
    "ws = np.tile(np.arange(6.5, 12.0, 1.0), 180)\n",
    "wd = np.repeat(np.arange(1.0, 360.0, 2.0), 6)\n",
    "\n",
    "freq = np.ones_like(ws)\n",
    "# Increase frequency value in steering wind directions\n",
    "start_idx = np.where(wd == 169)[0][0]\n",
    "end_idx = np.where(wd == 231)[0][0]\n",
    "freq[start_idx:end_idx] = 5\n",
    "freq = 10 * freq\n",
    "\n",
    "df_freq = pd.DataFrame({\"ws\": ws, \"wd\": wd, \"freq_val\": freq})\n",
    "\n",
    "N = 20\n",
    "print(\"Calculating energy ratios with bootstrapping (N={}).\".format(N))\n",
    "print(\"This may take a couple seconds...\")\n",
    "np.random.seed(0)\n",
    "er_out = er.compute_energy_ratio(\n",
    "    er_in,\n",
    "    test_turbines=[4],\n",
    "    use_predefined_ref=True,\n",
    "    use_predefined_wd=True,\n",
    "    use_predefined_ws=True,\n",
    "    wd_step=2.0,\n",
    "    wd_bin_overlap_radius=0.0,\n",
    "    ws_min=6.0,\n",
    "    ws_max=12.0,\n",
    "    df_freq=df_freq,\n",
    "    N=N,\n",
    "    percentiles=[5.0, 95.0],\n",
    ")\n",
    "ax = er_out.plot_energy_ratios(overlay_frequency=True)\n",
    "ax[0].set_title(\"Energy Ratios for Turbine 004\")"
   ]
  },
  {
   "cell_type": "code",
   "execution_count": null,
   "metadata": {},
   "outputs": [],
   "source": []
  }
 ],
 "metadata": {
  "interpreter": {
   "hash": "96c53852a1e56d9fbc8381f88ff3256056a2f574c5e86cd3dfe6ce1bc9d68e6a"
  },
  "kernelspec": {
   "display_name": "Python 3.10.4 64-bit ('flasc-reqs': conda)",
   "name": "python3"
  },
  "language_info": {
   "codemirror_mode": {
    "name": "ipython",
    "version": 3
   },
   "file_extension": ".py",
   "mimetype": "text/x-python",
   "name": "python",
   "nbconvert_exporter": "python",
   "pygments_lexer": "ipython3",
   "version": "3.10.4"
  },
  "toc": {
   "base_numbering": 1,
   "nav_menu": {},
   "number_sections": true,
   "sideBar": true,
   "skip_h1_title": false,
   "title_cell": "Table of Contents",
   "title_sidebar": "Contents",
   "toc_cell": false,
   "toc_position": {},
   "toc_section_display": true,
   "toc_window_display": false
  }
 },
 "nbformat": 4,
 "nbformat_minor": 2
}
